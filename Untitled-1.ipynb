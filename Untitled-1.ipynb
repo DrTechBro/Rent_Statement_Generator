{
 "cells": [
  {
   "cell_type": "code",
   "execution_count": 8,
   "metadata": {},
   "outputs": [
    {
     "name": "stdout",
     "output_type": "stream",
     "text": [
      "Rent statement generated successfully. Saved as rent_statement2.xlsx\n"
     ]
    }
   ],
   "source": [
    "import pandas as pd\n",
    "\n",
    "def generate_rent_statement(mpesa_statement_file):\n",
    "    # Rent amount due and due date\n",
    "    rent_due = 115000\n",
    "    due_date = pd.Timestamp.now().replace(day=5)\n",
    "\n",
    "    # Read the MPESA statement Excel file\n",
    "    mpesa_df = pd.read_excel(mpesa_statement_file)\n",
    "\n",
    "    # Sort the transactions by date\n",
    "    mpesa_df.sort_values(by='Date', inplace=True)\n",
    "\n",
    "    # Initialize variables for balances\n",
    "    balance_forward = 0\n",
    "    balances_due = []\n",
    "\n",
    "    # Iterate through each transaction in the MPESA statement\n",
    "    for index, row in mpesa_df.iterrows():\n",
    "        payment_date = row['Date']\n",
    "        amount_paid = row['Amount']\n",
    "        transaction_code = row['Transaction Code']\n",
    "\n",
    "        # Handle missing amount values\n",
    "        if pd.isna(amount_paid):\n",
    "            amount_paid = 0  # Default missing values to 0\n",
    "\n",
    "        # Calculate balance brought forward for the month\n",
    "        balance_forward += amount_paid\n",
    "\n",
    "        # Check if the payment date is within the current month\n",
    "        if payment_date.month == due_date.month and payment_date.year == due_date.year:\n",
    "            # Subtract the rent due from the balance forward\n",
    "            balance_forward -= rent_due\n",
    "\n",
    "        # Add the balance due at the end of the month to the list\n",
    "        if payment_date.month != due_date.month or payment_date.year != due_date.year:\n",
    "            balances_due.append({\n",
    "                'Month': due_date.strftime('%B'),\n",
    "                'Year': due_date.year,\n",
    "                'Balance Due': balance_forward - rent_due\n",
    "            })\n",
    "    \n",
    "    # Create DataFrame for balances due\n",
    "    balances_due_df = pd.DataFrame(balances_due)\n",
    "\n",
    "    # Write the rent statement to an Excel file\n",
    "    rent_statement_file = 'rent_statement2.xlsx'\n",
    "    with pd.ExcelWriter(rent_statement_file) as writer:\n",
    "        balances_due_df.to_excel(writer, sheet_name='Rent Statement', index=False)\n",
    "\n",
    "    print(f'Rent statement generated successfully. Saved as {rent_statement_file}')\n",
    "\n",
    "# Example usage\n",
    "#mpesa_statement_file = input(\"mpesa_statement_file.xlsx\")\n",
    "\n",
    "generate_rent_statement('/Users/user/Desktop/Rent-Statement-Generator/mpesa_statement_file.xlsx')"
   ]
  },
  {
   "cell_type": "code",
   "execution_count": 5,
   "metadata": {},
   "outputs": [
    {
     "name": "stdout",
     "output_type": "stream",
     "text": [
      "Collecting openpyxl\n",
      "  Downloading openpyxl-3.1.2-py2.py3-none-any.whl.metadata (2.5 kB)\n",
      "Collecting et-xmlfile (from openpyxl)\n",
      "  Downloading et_xmlfile-1.1.0-py3-none-any.whl.metadata (1.8 kB)\n",
      "Downloading openpyxl-3.1.2-py2.py3-none-any.whl (249 kB)\n",
      "\u001b[2K   \u001b[90m━━━━━━━━━━━━━━━━━━━━━━━━━━━━━━━━━━━━━━━\u001b[0m \u001b[32m250.0/250.0 kB\u001b[0m \u001b[31m611.7 kB/s\u001b[0m eta \u001b[36m0:00:00\u001b[0ma \u001b[36m0:00:01\u001b[0m\n",
      "\u001b[?25hDownloading et_xmlfile-1.1.0-py3-none-any.whl (4.7 kB)\n",
      "Installing collected packages: et-xmlfile, openpyxl\n",
      "Successfully installed et-xmlfile-1.1.0 openpyxl-3.1.2\n",
      "Note: you may need to restart the kernel to use updated packages.\n"
     ]
    }
   ],
   "source": [
    "pip install openpyxl\n"
   ]
  },
  {
   "cell_type": "code",
   "execution_count": null,
   "metadata": {},
   "outputs": [],
   "source": []
  }
 ],
 "metadata": {
  "kernelspec": {
   "display_name": "learn-env",
   "language": "python",
   "name": "python3"
  },
  "language_info": {
   "codemirror_mode": {
    "name": "ipython",
    "version": 3
   },
   "file_extension": ".py",
   "mimetype": "text/x-python",
   "name": "python",
   "nbconvert_exporter": "python",
   "pygments_lexer": "ipython3",
   "version": "3.9.19"
  }
 },
 "nbformat": 4,
 "nbformat_minor": 2
}
